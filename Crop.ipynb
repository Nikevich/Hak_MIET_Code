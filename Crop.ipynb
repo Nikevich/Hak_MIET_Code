{
 "cells": [
  {
   "cell_type": "code",
   "execution_count": 1,
   "id": "10c93abf-0732-4594-8bc9-482770509953",
   "metadata": {},
   "outputs": [],
   "source": [
    "import os\n",
    "import random\n",
    "import cv2\n",
    "import subprocess\n",
    "from pytorchvideo.data.encoded_video import EncodedVideo"
   ]
  },
  {
   "cell_type": "code",
   "execution_count": 8,
   "id": "b7242692-eaae-4c19-a147-c4e2d4e76118",
   "metadata": {},
   "outputs": [],
   "source": [
    "path_original_dataset = r\"C:\\Videos\"\n",
    "path_target_dataset = r\"C:\\Frames\"\n",
    "path_test = r\"C:\\Users\\Mokus\\Hahaton\\Hahaton2\\Минприроды_Видеофиксация\\Антон Васильев.avi\""
   ]
  },
  {
   "cell_type": "code",
   "execution_count": 22,
   "id": "cb8b444c-7e9b-4b02-80ea-a8449f7693ec",
   "metadata": {},
   "outputs": [],
   "source": [
    "\n",
    "for subdir, dirs, files in os.walk(path_original_dataset):\n",
    "    for dir in dirs:\n",
    "        path_subdir = os.path.join(path_original_dataset, dir)\n",
    "        #list_path_mp4_files = []\n",
    "        for file in os.listdir(path_subdir):\n",
    "            path_file = os.path.join(path_subdir, file)\n",
    "            #print(path_file)\n",
    "            #print(path_subdir)\n",
    "            filename = path_file.split('\\\\')[-1].split('.')[0]\n",
    "            #print(filename)\n",
    "            out = rf\"C:\\Frames\\ffmpeg{filename}_%03d.jpg\"\n",
    "            #print(out)\n",
    "            comm = (f\"ffmpeg -i {path_file} -vf fps=1/30 {out}\")\n",
    "            subprocess.call(comm, shell=True)\n",
    "            \n",
    "                \n"
   ]
  },
  {
   "cell_type": "code",
   "execution_count": null,
   "id": "ce319415-d19d-475b-914a-aae21f1fc77d",
   "metadata": {},
   "outputs": [],
   "source": []
  }
 ],
 "metadata": {
  "kernelspec": {
   "display_name": "Python 3 (ipykernel)",
   "language": "python",
   "name": "python3"
  },
  "language_info": {
   "codemirror_mode": {
    "name": "ipython",
    "version": 3
   },
   "file_extension": ".py",
   "mimetype": "text/x-python",
   "name": "python",
   "nbconvert_exporter": "python",
   "pygments_lexer": "ipython3",
   "version": "3.11.5"
  }
 },
 "nbformat": 4,
 "nbformat_minor": 5
}
