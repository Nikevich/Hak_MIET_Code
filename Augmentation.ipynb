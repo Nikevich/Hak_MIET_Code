{
 "cells": [
  {
   "cell_type": "code",
   "execution_count": 2,
   "metadata": {},
   "outputs": [],
   "source": [
    "import random\n",
    "import os\n",
    "import cv2\n",
    "from matplotlib import pyplot as plt\n",
    "from tqdm import tqdm\n",
    "import albumentations as A\n",
    "from multiprocessing import Pool"
   ]
  },
  {
   "cell_type": "code",
   "execution_count": 3,
   "metadata": {},
   "outputs": [],
   "source": [
    "def visualize(image):\n",
    "    plt.figure(figsize=(20, 10))\n",
    "    plt.axis('off')\n",
    "    plt.imshow(image)"
   ]
  },
  {
   "cell_type": "code",
   "execution_count": 4,
   "metadata": {},
   "outputs": [],
   "source": [
    "directory_extract = r\"C:\\Frames\"\n",
    "directory_final = r\"C:\\FramesAug\""
   ]
  },
  {
   "cell_type": "code",
   "execution_count": 7,
   "metadata": {},
   "outputs": [
    {
     "name": "stderr",
     "output_type": "stream",
     "text": [
      "100%|██████████████████████████████████████████████████████████████████████████████| 8075/8075 [37:20<00:00,  3.60it/s]\n"
     ]
    }
   ],
   "source": [
    "for subdir, dirs, files in os.walk(directory_extract):\n",
    "    count = 0\n",
    "    for file in tqdm(files):\n",
    "        count+=1\n",
    "        if count!=4:\n",
    "            continue\n",
    "        else:\n",
    "            path_file = os.path.join(directory_extract, file)\n",
    "                \n",
    "            image = cv2.imread(path_file)\n",
    "            path = directory_final + \"\\\\\"\n",
    "            filename = fr'{path}{file}'\n",
    "            cv2.imwrite(filename, image)\n",
    "        \n",
    "            transform = A.Compose(\n",
    "                [A.RandomRain(brightness_coefficient=0.9, drop_width=1, blur_value=5, p=1)],\n",
    "            )\n",
    "            random.seed()\n",
    "            transformed = transform(image=image)\n",
    "            path = directory_final + \"\\\\\"\n",
    "            filename = fr'{path}rain_{file}'\n",
    "            #visualize(transformed['image'])\n",
    "            cv2.imwrite(filename, transformed.get('image'))\n",
    "            #print('qq')\n",
    "        \n",
    "            transform = A.Compose(\n",
    "                [A.RandomFog(fog_coef_lower=0.1, fog_coef_upper=0.5, alpha_coef=0.1, p=1)],\n",
    "            )\n",
    "            random.seed()\n",
    "            transformed = transform(image=image)\n",
    "            path = directory_final + \"\\\\\"\n",
    "            filename = fr'{path}fog_{file}'\n",
    "            cv2.imwrite(filename, transformed.get('image'))\n",
    "            count = 0"
   ]
  },
  {
   "cell_type": "code",
   "execution_count": null,
   "metadata": {},
   "outputs": [],
   "source": []
  }
 ],
 "metadata": {
  "kernelspec": {
   "display_name": "Python 3 (ipykernel)",
   "language": "python",
   "name": "python3"
  },
  "language_info": {
   "codemirror_mode": {
    "name": "ipython",
    "version": 3
   },
   "file_extension": ".py",
   "mimetype": "text/x-python",
   "name": "python",
   "nbconvert_exporter": "python",
   "pygments_lexer": "ipython3",
   "version": "3.11.5"
  }
 },
 "nbformat": 4,
 "nbformat_minor": 4
}
